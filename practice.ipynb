{
 "cells": [
  {
   "cell_type": "code",
   "execution_count": null,
   "metadata": {
    "collapsed": false
   },
   "outputs": [],
   "source": [
    "import urllib.request as ur\n",
    "\n",
    "print(\"Automatic migration of ProActive catalog ...\")\n",
    "\n",
    "workflowCatalogURL = 'https://try.activeeon.com/workflow-catalog/'\n",
    "\n",
    "wfURL = 'http://try.activeeon.com:8080/workflow-catalog/buckets/1/workflows/4/revisions/1?alt=xml'\n",
    "\n",
    "dlf = open(\"test.xml\", \"b+w\")\n",
    "stream = ur.urlopen(wfURL)\n",
    "dlf.write(stream.read())\n",
    "dlf.close()\n",
    "\n",
    "print(\"Finish Download ...\")\n"
   ]
  },
  {
   "cell_type": "code",
   "execution_count": null,
   "metadata": {
    "collapsed": false
   },
   "outputs": [],
   "source": [
    "import json\n",
    "import urllib.request as ur\n",
    "\n",
    "meta = json.load(ur.urlopen(\"http://try.activeeon.com:8080/workflow-catalog/buckets/1/workflows/4\"))\n",
    "#print(meta)\n",
    "#print(meta.get(\"_links\").get(\"content\").get(\"href\"))\n",
    "url = meta.get(\"_links\").get(\"content\").get(\"href\")"
   ]
  },
  {
   "cell_type": "code",
   "execution_count": null,
   "metadata": {
    "collapsed": false
   },
   "outputs": [],
   "source": [
    "import json\n",
    "import urllib.request as ur\n",
    "\n",
    "#bucket meta data in the catalog(dict)\n",
    "metaBucket = json.load(ur.urlopen(\"http://try.activeeon.com:8080/workflow-catalog/buckets\"))\n",
    "#bucket list(list)\n",
    "bucketList = metaBucket.get(\"_embedded\").get(\"bucketMetadataList\")\n",
    "for l in bucketList:\n",
    "    wfurl = \"http://try.activeeon.com:8080/workflow-catalog/buckets/\"+str(l.get(\"id\"))+\"/workflows\"\n",
    "    #workflow meta data in the buckets (dict)\n",
    "    metaWorkflow = json.load(ur.urlopen(wfurl))\n",
    "    #worflow list(list)\n",
    "    workflowList = metaWorkflow.get(\"_embedded\").get(\"workflowMetadataList\")\n",
    "    for w in workflowList:\n",
    "        print(w.get(\"name\"))\n"
   ]
  },
  {
   "cell_type": "code",
   "execution_count": null,
   "metadata": {
    "collapsed": false
   },
   "outputs": [],
   "source": [
    "import json\n",
    "import urllib.request as ur\n",
    "\n",
    "bucketURL = \"http://try.activeeon.com:8080/workflow-catalog/buckets/1/workflows/\"\n",
    "\n",
    "metaWorkflow = json.load(ur.urlopen(bucketURL))\n",
    "workflowList = metaWorkflow.get(\"_embedded\").get(\"workflowMetadataList\")\n",
    "for w in workflowList:\n",
    "    wf = bucketURL + str(w.get(\"id\"))\n",
    "    wfmeta = json.load(ur.urlopen(wf))\n",
    "    wfURL = wfmeta.get(\"_links\").get(\"content\").get(\"href\")\n",
    "    file_name = wfmeta.get(\"name\")+\".xml\"\n",
    "    u = ur.urlopen(wfURL)\n",
    "    f = open(file_name, 'wb')\n",
    "    f.write(u.read())\n",
    "    f.close()\n",
    "print(\"Finish Downloading ...\")"
   ]
  },
  {
   "cell_type": "code",
   "execution_count": null,
   "metadata": {
    "collapsed": false
   },
   "outputs": [],
   "source": [
    "import os\n",
    "import json\n",
    "import urllib.request as ur\n",
    "import zipfile\n",
    "import shutil\n",
    "\n",
    "bucket = \"http://try.activeeon.com:8080/workflow-catalog/buckets/1\"\n",
    "bucketURL = bucket + \"/workflows/\"\n",
    "meta = json.load(ur.urlopen(bucket))\n",
    "name = meta.get(\"name\")\n",
    "mypath = \"./\"+name\n",
    "if not os.path.isdir(mypath):\n",
    "   os.makedirs(mypath)\n",
    "\n",
    "metaWorkflow = json.load(ur.urlopen(bucketURL))\n",
    "workflowList = metaWorkflow.get(\"_embedded\").get(\"workflowMetadataList\")\n",
    "for w in workflowList:\n",
    "    wf = bucketURL + str(w.get(\"id\"))\n",
    "    wfmeta = json.load(ur.urlopen(wf))\n",
    "    wfURL = wfmeta.get(\"_links\").get(\"content\").get(\"href\")\n",
    "    file_name = wfmeta.get(\"name\")+\".xml\"\n",
    "    fullfilename = os.path.join(mypath, file_name)\n",
    "    u = ur.urlopen(wfURL)\n",
    "    f = open(fullfilename, 'wb')\n",
    "    f.write(u.read())\n",
    "    f.close()\n",
    "print(\"Finish Downloading ...\")\n",
    "\n",
    "zipf = zipfile.ZipFile(name+\".zip\", 'w', zipfile.ZIP_DEFLATED)\n",
    "\n",
    "for root, dirs, files in os.walk(mypath):\n",
    "    for file in files:\n",
    "        zipf.write(os.path.join(root, file))\n",
    "print(\"Finish Zipping ...\")\n",
    "\n",
    "if os.path.exists(mypath):\n",
    "    shutil.rmtree(mypath)\n",
    "    \n",
    "print(\"Original Folder removed ...\")"
   ]
  },
  {
   "cell_type": "code",
   "execution_count": null,
   "metadata": {
    "collapsed": false
   },
   "outputs": [],
   "source": [
    "######################################\n",
    "#ProActive Catalog Migration Download#\n",
    "######################################\n",
    "\n",
    "import os\n",
    "import sys\n",
    "import json\n",
    "import getopt\n",
    "import shutil\n",
    "import zipfile\n",
    "import urllib.request as ur\n",
    "\n",
    "def downloadWFs(bucket):\n",
    "    bucketURL = bucket + \"/workflows/\"\n",
    "    meta = json.load(ur.urlopen(bucket))\n",
    "    name = meta.get(\"name\")\n",
    "    mypath = \"./\"+name\n",
    "    if not os.path.isdir(mypath):\n",
    "        os.makedirs(mypath)\n",
    "    metaWorkflow = json.load(ur.urlopen(bucketURL))\n",
    "    workflowList = metaWorkflow.get(\"_embedded\").get(\"workflowMetadataList\")\n",
    "    print(\"Begin Downloading Bucket: \" +name+\" ...\")\n",
    "    for w in workflowList:\n",
    "        wf = bucketURL + str(w.get(\"id\"))\n",
    "        wfmeta = json.load(ur.urlopen(wf))\n",
    "        wfURL = wfmeta.get(\"_links\").get(\"content\").get(\"href\")\n",
    "        file_name = wfmeta.get(\"name\")+\".xml\"\n",
    "        fullfilename = os.path.join(mypath, file_name)\n",
    "        u = ur.urlopen(wfURL)\n",
    "        f = open(fullfilename, 'wb')\n",
    "        f.write(u.read())\n",
    "        f.close()\n",
    "    print(\"Finish Downloading Bucket: \"+name+\".\")\n",
    "\n",
    "def zipBucket(bucket):\n",
    "    bucketURL = bucket + \"/workflows/\"\n",
    "    meta = json.load(ur.urlopen(bucket))\n",
    "    name = meta.get(\"name\")\n",
    "    mypath = \"./\"+name\n",
    "    myname = mypath + \".zip\"\n",
    "    zipf = zipfile.ZipFile(myname, 'w', zipfile.ZIP_DEFLATED)\n",
    "    print(\"Begin Zipping Bucket: \" +name+\" ...\")\n",
    "    for root, dirs, files in os.walk(mypath):\n",
    "        for file in files:\n",
    "            zipf.write(os.path.join(root, file))\n",
    "    print(\"Finish Zipping Bucket: \"+name+\".\")\n",
    "    \n",
    "    if os.path.exists(mypath):\n",
    "        shutil.rmtree(mypath)\n",
    "    \n",
    "    return os.path.abspath(myname)\n",
    "\n",
    "def migration(catalogURL, path):\n",
    "    if path == \"./\":\n",
    "        path = os.path.abspath(os.curdir) + \"/CatalogWorkflows\"\n",
    "    else:\n",
    "        path = path + \"/CatalogWorkflows\"\n",
    "    if not os.path.isdir(path):\n",
    "        os.makedirs(path)    \n",
    "    bucketsURL = catalogURL+\"/buckets\"\n",
    "    metaBucket = json.load(ur.urlopen(bucketsURL))\n",
    "    bucketList = metaBucket.get(\"_embedded\").get(\"bucketMetadataList\")\n",
    "    for l in bucketList:\n",
    "        bucket = bucketsURL+\"/\"+str(l.get(\"id\"))\n",
    "        downloadWFs(bucket)\n",
    "        name = zipBucket(bucket)\n",
    "        shutil.move(name, path+\"/\"+name.split('/')[-1])\n",
    "    print(\"Migration Finished ...\")\n",
    "    \n",
    "    \n",
    "if __name__ == \"__main__\":    \n",
    "    catalogURL = \"http://tryqa.activeeon.com:8080/workflow-catalog\"\n",
    "    path = \"/Users/sophiesong/Desktop\"\n",
    "    #path = \"./\"\n",
    "    migration(catalogURL, path)"
   ]
  },
  {
   "cell_type": "code",
   "execution_count": null,
   "metadata": {
    "collapsed": false
   },
   "outputs": [],
   "source": [
    "name = \"/Users/sophiesong/Documents/workspace/activeeon/Examples.zip\"\n",
    "print(name.split('/')[-1])"
   ]
  },
  {
   "cell_type": "code",
   "execution_count": 29,
   "metadata": {
    "collapsed": false
   },
   "outputs": [
    {
     "name": "stdout",
     "output_type": "stream",
     "text": [
      "1007\n"
     ]
    }
   ],
   "source": [
    "import os\n",
    "import json\n",
    "import urllib.request as ur\n",
    "import zipfile\n",
    "import shutil\n",
    "\n",
    "bucket = \"https://tryqa.activeeon.com/catalog/buckets\"\n",
    "meta = json.load(ur.urlopen(bucket))\n",
    "print(meta[-1].get('id'))"
   ]
  },
  {
   "cell_type": "code",
   "execution_count": 39,
   "metadata": {
    "collapsed": false
   },
   "outputs": [],
   "source": [
    "####################################\n",
    "#ProActive Catalog Migration Upload#\n",
    "####################################\n",
    "\n",
    "import os\n",
    "import sys\n",
    "import json\n",
    "import getopt\n",
    "import requests\n",
    "import urllib.request as ur\n",
    "\n",
    "#####Walk through a directory and Create a bucket for each zip file, then upload this zip to the new created bucket######\n",
    "\n",
    "#rootDir = '/Users/sophiesong/Desktop/CatalogWorkflows/'\n",
    "#newCatalog = 'https://tryqa.activeeon.com/catalog/'\n",
    "def upload(rootDir, newCatalog):    \n",
    "    buckets = newCatalog + 'buckets/'\n",
    "    bucketURL = buckets+'?name='\n",
    "    list_dirs = os.walk(rootDir)\n",
    "    for root, dirs, files in list_dirs:\n",
    "        for f in files:\n",
    "            zipName = os.path.join(root, f).split('/')[-1]\n",
    "            if(zipName.split('.')[-1] == 'zip'):\n",
    "                bucketName =  zipName.split('.')[0]+'_0'\n",
    "                response = requests.post(bucketURL+bucketName)\n",
    "                meta = json.load(ur.urlopen(buckets))\n",
    "                bucketID = meta[-1].get('id')\n",
    "                #print(meta[-1].get('id'))\n",
    "                url = buckets+str(bucketID)+'/resources?kind=workflow&commitMessage=migration&contentType=zip'\n",
    "                files = {'file': open(rootDir + zipName, 'rb')}\n",
    "                r = requests.post(url, files=files)\n",
    "        \n",
    "\n",
    "if __name__ == \"__main__\":    \n",
    "    rootDir = '/Users/sophiesong/Desktop/CatalogWorkflows/'\n",
    "    newCatalog = 'https://tryqa.activeeon.com/catalog/'\n",
    "    upload(rootDir, newCatalog)"
   ]
  },
  {
   "cell_type": "code",
   "execution_count": 4,
   "metadata": {
    "collapsed": true
   },
   "outputs": [],
   "source": [
    "import requests\n",
    "\n",
    "########Create a new bucket#########\n",
    "\n",
    "url = \"https://tryqa.activeeon.com/catalog/buckets?name=\"\n",
    "\n",
    "response = requests.post(url+\"test\")\n",
    "\n",
    "\n",
    "#curl -X GET --header 'Accept: */*' 'https://trydev.activeeon.com/catalog/buckets?name=Example'\n",
    "#https://trydev.activeeon.com/catalog/buckets?name=test&owner=GROUP%3Apublic-objects\n",
    "#curl -X POST --header 'Content-Type: application/json' --header 'Accept: */*' 'https://trydev.activeeon.com:8080/catalog/buckets?name=test&owner=GROUP%3Apublic-objects'\n",
    "\n",
    "\n",
    "\n",
    "########Upload an archive to a bucket#########\n",
    "\n",
    "# curl -X POST --header 'Content-Type: multipart/form-data' --header 'Accept: application/json' 'http://tryqa.activeeon.com:8080/catalog/buckets/1010/resources?kind=workflow&commitMessage=migration&contentType=zip' -F \"file=@/Users/sophiesong/Desktop/CatalogWorkflows/Addons.zip\"\n",
    "\n",
    "\n",
    "url = 'http://tryqa.activeeon.com:8080/catalog/buckets/1010/resources?kind=workflow&commitMessage=migration&contentType=zip'\n",
    "files = {'file': open('/Users/sophiesong/Desktop/CatalogWorkflows/Machine_Learning.zip', 'rb')}\n",
    "r = requests.post(url, files=files)"
   ]
  }
 ],
 "metadata": {
  "kernelspec": {
   "display_name": "Python 3",
   "language": "python",
   "name": "python3"
  },
  "language_info": {
   "codemirror_mode": {
    "name": "ipython",
    "version": 3
   },
   "file_extension": ".py",
   "mimetype": "text/x-python",
   "name": "python",
   "nbconvert_exporter": "python",
   "pygments_lexer": "ipython3",
   "version": "3.6.1"
  }
 },
 "nbformat": 4,
 "nbformat_minor": 2
}
