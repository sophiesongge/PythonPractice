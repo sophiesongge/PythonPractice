{
 "cells": [
  {
   "cell_type": "code",
   "execution_count": null,
   "metadata": {
    "collapsed": false
   },
   "outputs": [],
   "source": [
    "import urllib.request as ur\n",
    "\n",
    "print(\"Automatic migration of ProActive catalog ...\")\n",
    "\n",
    "workflowCatalogURL = 'https://try.activeeon.com/workflow-catalog/'\n",
    "\n",
    "wfURL = 'http://try.activeeon.com:8080/workflow-catalog/buckets/1/workflows/4/revisions/1?alt=xml'\n",
    "\n",
    "dlf = open(\"test.xml\", \"b+w\")\n",
    "stream = ur.urlopen(wfURL)\n",
    "dlf.write(stream.read())\n",
    "dlf.close()\n",
    "\n",
    "print(\"Finish Download ...\")\n"
   ]
  },
  {
   "cell_type": "code",
   "execution_count": null,
   "metadata": {
    "collapsed": false
   },
   "outputs": [],
   "source": [
    "import json\n",
    "import urllib.request as ur\n",
    "\n",
    "meta = json.load(ur.urlopen(\"http://try.activeeon.com:8080/workflow-catalog/buckets/1/workflows/4\"))\n",
    "#print(meta)\n",
    "#print(meta.get(\"_links\").get(\"content\").get(\"href\"))\n",
    "url = meta.get(\"_links\").get(\"content\").get(\"href\")"
   ]
  },
  {
   "cell_type": "code",
   "execution_count": null,
   "metadata": {
    "collapsed": false
   },
   "outputs": [],
   "source": [
    "import json\n",
    "import urllib.request as ur\n",
    "\n",
    "#bucket meta data in the catalog(dict)\n",
    "metaBucket = json.load(ur.urlopen(\"http://try.activeeon.com:8080/workflow-catalog/buckets\"))\n",
    "#bucket list(list)\n",
    "bucketList = metaBucket.get(\"_embedded\").get(\"bucketMetadataList\")\n",
    "for l in bucketList:\n",
    "    wfurl = \"http://try.activeeon.com:8080/workflow-catalog/buckets/\"+str(l.get(\"id\"))+\"/workflows\"\n",
    "    #workflow meta data in the buckets (dict)\n",
    "    metaWorkflow = json.load(ur.urlopen(wfurl))\n",
    "    #worflow list(list)\n",
    "    workflowList = metaWorkflow.get(\"_embedded\").get(\"workflowMetadataList\")\n",
    "    for w in workflowList:\n",
    "        print(w.get(\"name\"))\n"
   ]
  },
  {
   "cell_type": "code",
   "execution_count": null,
   "metadata": {
    "collapsed": false
   },
   "outputs": [],
   "source": [
    "import json\n",
    "import urllib.request as ur\n",
    "\n",
    "bucketURL = \"http://try.activeeon.com:8080/workflow-catalog/buckets/1/workflows/\"\n",
    "\n",
    "metaWorkflow = json.load(ur.urlopen(bucketURL))\n",
    "workflowList = metaWorkflow.get(\"_embedded\").get(\"workflowMetadataList\")\n",
    "for w in workflowList:\n",
    "    wf = bucketURL + str(w.get(\"id\"))\n",
    "    wfmeta = json.load(ur.urlopen(wf))\n",
    "    wfURL = wfmeta.get(\"_links\").get(\"content\").get(\"href\")\n",
    "    file_name = wfmeta.get(\"name\")+\".xml\"\n",
    "    u = ur.urlopen(wfURL)\n",
    "    f = open(file_name, 'wb')\n",
    "    f.write(u.read())\n",
    "    f.close()\n",
    "print(\"Finish Downloading ...\")"
   ]
  },
  {
   "cell_type": "code",
   "execution_count": null,
   "metadata": {
    "collapsed": false
   },
   "outputs": [],
   "source": [
    "import os\n",
    "import json\n",
    "import urllib.request as ur\n",
    "import zipfile\n",
    "import shutil\n",
    "\n",
    "bucket = \"http://try.activeeon.com:8080/workflow-catalog/buckets/1\"\n",
    "bucketURL = bucket + \"/workflows/\"\n",
    "meta = json.load(ur.urlopen(bucket))\n",
    "name = meta.get(\"name\")\n",
    "mypath = \"./\"+name\n",
    "if not os.path.isdir(mypath):\n",
    "   os.makedirs(mypath)\n",
    "\n",
    "metaWorkflow = json.load(ur.urlopen(bucketURL))\n",
    "workflowList = metaWorkflow.get(\"_embedded\").get(\"workflowMetadataList\")\n",
    "for w in workflowList:\n",
    "    wf = bucketURL + str(w.get(\"id\"))\n",
    "    wfmeta = json.load(ur.urlopen(wf))\n",
    "    wfURL = wfmeta.get(\"_links\").get(\"content\").get(\"href\")\n",
    "    file_name = wfmeta.get(\"name\")+\".xml\"\n",
    "    fullfilename = os.path.join(mypath, file_name)\n",
    "    u = ur.urlopen(wfURL)\n",
    "    f = open(fullfilename, 'wb')\n",
    "    f.write(u.read())\n",
    "    f.close()\n",
    "print(\"Finish Downloading ...\")\n",
    "\n",
    "zipf = zipfile.ZipFile(name+\".zip\", 'w', zipfile.ZIP_DEFLATED)\n",
    "\n",
    "for root, dirs, files in os.walk(mypath):\n",
    "    for file in files:\n",
    "        zipf.write(os.path.join(root, file))\n",
    "print(\"Finish Zipping ...\")\n",
    "\n",
    "if os.path.exists(mypath):\n",
    "    shutil.rmtree(mypath)\n",
    "    \n",
    "print(\"Original Folder removed ...\")"
   ]
  },
  {
   "cell_type": "code",
   "execution_count": 2,
   "metadata": {
    "collapsed": false
   },
   "outputs": [
    {
     "name": "stdout",
     "output_type": "stream",
     "text": [
      "Begin Downloading Bucket: Examples ...\n",
      "Finish Downloading Bucket: Examples.\n",
      "Begin Zipping Bucket: Examples ...\n",
      "Finish Zipping Bucket: Examples.\n",
      "Begin Downloading Bucket: Cloud-automation ...\n",
      "Finish Downloading Bucket: Cloud-automation.\n",
      "Begin Zipping Bucket: Cloud-automation ...\n",
      "Finish Zipping Bucket: Cloud-automation.\n",
      "Begin Downloading Bucket: Addons ...\n",
      "Finish Downloading Bucket: Addons.\n",
      "Begin Zipping Bucket: Addons ...\n",
      "Finish Zipping Bucket: Addons.\n",
      "Migration Finished ...\n"
     ]
    }
   ],
   "source": [
    "#############################\n",
    "#ProActive Catalog Migration#\n",
    "#############################\n",
    "\n",
    "import os\n",
    "import sys\n",
    "import json\n",
    "import getopt\n",
    "import shutil\n",
    "import zipfile\n",
    "import urllib.request as ur\n",
    "\n",
    "def downloadWFs(bucket, path):\n",
    "    path = path + \"/catalog\"\n",
    "    bucketURL = bucket + \"/workflows/\"\n",
    "    meta = json.load(ur.urlopen(bucket))\n",
    "    name = meta.get(\"name\")\n",
    "    mypath = path+\"/\"+name\n",
    "    if not os.path.isdir(mypath):\n",
    "        os.makedirs(mypath)\n",
    "    metaWorkflow = json.load(ur.urlopen(bucketURL))\n",
    "    workflowList = metaWorkflow.get(\"_embedded\").get(\"workflowMetadataList\")\n",
    "    print(\"Begin Downloading Bucket: \" +name+\" ...\")\n",
    "    for w in workflowList:\n",
    "        wf = bucketURL + str(w.get(\"id\"))\n",
    "        wfmeta = json.load(ur.urlopen(wf))\n",
    "        wfURL = wfmeta.get(\"_links\").get(\"content\").get(\"href\")\n",
    "        file_name = wfmeta.get(\"name\")+\".xml\"\n",
    "        fullfilename = os.path.join(mypath, file_name)\n",
    "        u = ur.urlopen(wfURL)\n",
    "        f = open(fullfilename, 'wb')\n",
    "        f.write(u.read())\n",
    "        f.close()\n",
    "    print(\"Finish Downloading Bucket: \"+name+\".\")\n",
    "\n",
    "def zipBucket(bucket, path):\n",
    "    path = path + \"/catalog\"\n",
    "    bucketURL = bucket + \"/workflows/\"\n",
    "    meta = json.load(ur.urlopen(bucket))\n",
    "    name = meta.get(\"name\")\n",
    "    mypath = path+\"/\"+name\n",
    "    zipf = zipfile.ZipFile(mypath+\".zip\", 'w', zipfile.ZIP_DEFLATED)\n",
    "    print(\"Begin Zipping Bucket: \" +name+\" ...\")\n",
    "    for root, dirs, files in os.walk(mypath):\n",
    "        for file in files:\n",
    "            zipf.write(os.path.join(root, file))\n",
    "    print(\"Finish Zipping Bucket: \"+name+\".\")\n",
    "    \n",
    "    if os.path.exists(mypath):\n",
    "        shutil.rmtree(mypath)\n",
    "\n",
    "def migration(catalogURL, path):\n",
    "    if not os.path.isdir(path):\n",
    "        os.makedirs(path)    \n",
    "    bucketsURL = catalogURL+\"/buckets\"\n",
    "    metaBucket = json.load(ur.urlopen(bucketsURL))\n",
    "    bucketList = metaBucket.get(\"_embedded\").get(\"bucketMetadataList\")\n",
    "    for l in bucketList:\n",
    "        bucket = bucketsURL+\"/\"+str(l.get(\"id\"))\n",
    "        downloadWFs(bucket, path)\n",
    "        zipBucket(bucket, path)\n",
    "    print(\"Migration Finished ...\")\n",
    "    \n",
    "if __name__ == \"__main__\":    \n",
    "    catalogURL = \"http://try.activeeon.com:8080/workflow-catalog\"\n",
    "    path = \"/Users/sophiesong/Desktop\"\n",
    "    migration(catalogURL, path)"
   ]
  },
  {
   "cell_type": "code",
   "execution_count": null,
   "metadata": {
    "collapsed": true
   },
   "outputs": [],
   "source": []
  }
 ],
 "metadata": {
  "kernelspec": {
   "display_name": "Python 3",
   "language": "python",
   "name": "python3"
  },
  "language_info": {
   "codemirror_mode": {
    "name": "ipython",
    "version": 3
   },
   "file_extension": ".py",
   "mimetype": "text/x-python",
   "name": "python",
   "nbconvert_exporter": "python",
   "pygments_lexer": "ipython3",
   "version": "3.6.1"
  }
 },
 "nbformat": 4,
 "nbformat_minor": 2
}
